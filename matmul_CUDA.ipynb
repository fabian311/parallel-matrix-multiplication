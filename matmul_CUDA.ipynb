{
  "nbformat": 4,
  "nbformat_minor": 0,
  "metadata": {
    "colab": {
      "name": "matmul CUDA.ipynb",
      "provenance": [],
      "collapsed_sections": []
    },
    "kernelspec": {
      "name": "python3",
      "display_name": "Python 3"
    },
    "accelerator": "GPU"
  },
  "cells": [
    {
      "cell_type": "code",
      "metadata": {
        "colab": {
          "base_uri": "https://localhost:8080/"
        },
        "id": "SsI9ZDTiHgjs",
        "outputId": "f5c3d373-8bac-4037-9e39-0d6dd3b98677"
      },
      "source": [
        "!nvidia-smi -L"
      ],
      "execution_count": null,
      "outputs": [
        {
          "output_type": "stream",
          "text": [
            "GPU 0: Tesla T4 (UUID: GPU-f1986cdb-f44f-bd5c-9066-a56bd54f2c9e)\n"
          ],
          "name": "stdout"
        }
      ]
    },
    {
      "cell_type": "code",
      "metadata": {
        "id": "9YZqnYUxHnOj"
      },
      "source": [
        "from numba import cuda, float64\n",
        "import numpy as np\n",
        "import matplotlib.pyplot as plt\n",
        "%matplotlib inline\n",
        "import seaborn as sns\n",
        "sns.set()\n",
        "import pandas as pd\n",
        "import time\n",
        "import math"
      ],
      "execution_count": null,
      "outputs": []
    },
    {
      "cell_type": "markdown",
      "metadata": {
        "id": "_OK04KziPs-5"
      },
      "source": [
        "#### Numpy"
      ]
    },
    {
      "cell_type": "code",
      "metadata": {
        "id": "_doiW4_UPvEp"
      },
      "source": [
        "numpy_perf = []\n",
        "for N in [128, 256, 512, 1024, 1536, 2048, 2560, 3072, 3584, 4096]:\n",
        "  np.random.seed(1)\n",
        "\n",
        "  A = np.random.uniform(0,1,(N,N))\n",
        "  B = np.random.uniform(0,1,(N,N))\n",
        "\n",
        "  start = time.time()\n",
        "  np.matmul(A,B)\n",
        "  stop = time.time()\n",
        "  elapsed = stop - start\n",
        "\n",
        "  m = A.shape[0]  # row number A\n",
        "  n = A.shape[1]  # col number A = row number B\n",
        "  p = B.shape[1]  # col number B\n",
        "\n",
        "  # Compute flops and performance as GFlops\n",
        "  flops = m * p * (n + n - 1)\n",
        "  flops2gflops = 1/10**9\n",
        "  perf = flops / elapsed * flops2gflops\n",
        "  \n",
        "  numpy_perf.append(perf)"
      ],
      "execution_count": null,
      "outputs": []
    },
    {
      "cell_type": "markdown",
      "metadata": {
        "id": "0pQD8a6mw0PE"
      },
      "source": [
        "#### Naive Python"
      ]
    },
    {
      "cell_type": "code",
      "metadata": {
        "id": "TtvcsPQUvhbs"
      },
      "source": [
        "# Naive matmul\n",
        "@cuda.jit\n",
        "def naive_matmul(A,B,C):\n",
        "  r = cuda.threadIdx.x + cuda.blockIdx.x * cuda.blockDim.x\n",
        "  c = cuda.threadIdx.y + cuda.blockIdx.y * cuda.blockDim.y \n",
        "  \n",
        "  temp = 0       # initialise temporary variable for each element of C\n",
        "  \n",
        "  for k in range(A.shape[1]):\n",
        "    temp += A[r, k] * B[k, c]      # compute dot product\n",
        "  \n",
        "  C[r, c] = temp     # assign temporary variable to C matrix\n",
        "\n",
        "#------------------------------------\n",
        "\n",
        "naive_perf = []\n",
        "\n",
        "# Tile size\n",
        "T = 8\n",
        "\n",
        "for N in [128, 256, 512, 1024, 1536, 2048, 2560, 3072, 3584, 4096]:\n",
        "  np.random.seed(1)\n",
        "  A = np.random.uniform(0,1,(N,N))\n",
        "  B = np.random.uniform(0,1,(N,N))\n",
        "  C = np.zeros((N,N))\n",
        "\n",
        "  # Blocks per grid\n",
        "  bpg = math.ceil(A.shape[0] / T)\n",
        "\n",
        "  THREADS = (T,T)\n",
        "  BLOCKS = (bpg,bpg)\n",
        "\n",
        "  start = time.time()\n",
        "  naive_matmul[BLOCKS, THREADS](A,B,C)\n",
        "  stop = time.time()\n",
        "  elapsed = stop - start\n",
        "\n",
        "  m = A.shape[0]  # row number A\n",
        "  n = A.shape[1]  # col number A = row number B\n",
        "  p = B.shape[1]  # col number B\n",
        "\n",
        "  # Compute flops and performance as GFlops\n",
        "  flops = m * p * (n + n - 1)\n",
        "  flops2gflops = 1/10**9\n",
        "  perf = flops / elapsed * flops2gflops\n",
        "  \n",
        "  # Store performances in list\n",
        "  naive_perf.append(perf)"
      ],
      "execution_count": null,
      "outputs": []
    },
    {
      "cell_type": "markdown",
      "metadata": {
        "id": "OK_PWeHN9HoL"
      },
      "source": [
        "#### Shared Meomory - Tile 8x8"
      ]
    },
    {
      "cell_type": "code",
      "metadata": {
        "id": "yTZNoI2z9OAj"
      },
      "source": [
        "@cuda.jit\n",
        "def sm_matmul(A,B,C): \n",
        "  # Initialise 2D array in shared memory\n",
        "  # Each array will have a shape of TxT elements\n",
        "  # Data type: double precision (float64)\n",
        "  sA = cuda.shared.array(shape=(T,T), dtype=float64)\n",
        "  sB = cuda.shared.array(shape=(T,T), dtype=float64)\n",
        "\n",
        "  # Global memory matrices x and y dimensions index\n",
        "  r = cuda.threadIdx.x + cuda.blockIdx.x * cuda.blockDim.x\n",
        "  c = cuda.threadIdx.y + cuda.blockIdx.y * cuda.blockDim.y\n",
        "  \n",
        "  # Shared memory indexes\n",
        "  tr = cuda.threadIdx.x\n",
        "  tc = cuda.threadIdx.y\n",
        "  \n",
        "  temp = 0\n",
        "  # Loop over all square submatrices of A and B needed to compute an element of C\n",
        "  # Load shared memory arrays\n",
        "  for i in range(math.ceil(A.shape[0]/T)):\n",
        "    sA[tr, tc] = A[r, tc + i * T]\n",
        "    sB[tr, tc] = B[tr + i * T, c]\n",
        "\n",
        "    # Ensure each thread has finished loading\n",
        "    cuda.syncthreads()\n",
        "\n",
        "    # Copute dot product and store result in temporary variable  \n",
        "    for k in range(T):\n",
        "      temp += sA[tr, k] * sB[k, tc]\n",
        "    \n",
        "    # Ensure each thread has finished calculations\n",
        "    cuda.syncthreads()\n",
        "\n",
        "  # Assign temporary variable to element of C\n",
        "  C[r,c] = temp\n",
        "\n",
        "#--------------------------------\n",
        "\n",
        "perf_2 = []\n",
        "\n",
        "#Tile size\n",
        "T = 8\n",
        "\n",
        "for N in [128, 256, 512, 1024, 1536, 2048, 2560, 3072, 3584, 4096]:  \n",
        "  np.random.seed(1)\n",
        "  A = np.random.uniform(0,1,(N,N))\n",
        "  B = np.random.uniform(0,1,(N,N))\n",
        "  C = np.zeros((N,N))\n",
        "\n",
        "  # Blocks per grid\n",
        "  bpg = math.ceil(A.shape[0] / T)\n",
        "\n",
        "  THREADS = (T,T)\n",
        "  BLOCKS = (bpg,bpg)\n",
        "\n",
        "  start = time.time()\n",
        "  sm_matmul[BLOCKS, THREADS](A,B,C)\n",
        "  stop = time.time()\n",
        "  elapsed = stop - start\n",
        "\n",
        "  m = A.shape[0]  # row number A\n",
        "  n = A.shape[1]  # col number A = row number B\n",
        "  p = B.shape[1]  # col number B\n",
        "\n",
        "  flops = m * p * (n + n - 1)\n",
        "  flops2gflops = 1/10**9\n",
        "  perf = flops / elapsed * flops2gflops\n",
        "\n",
        "  perf_2.append(perf)"
      ],
      "execution_count": null,
      "outputs": []
    },
    {
      "cell_type": "markdown",
      "metadata": {
        "id": "zqJh3kxcQKNz"
      },
      "source": [
        "#### Shared Memory - Tile 8x8 - Fused Multiply Add"
      ]
    },
    {
      "cell_type": "code",
      "metadata": {
        "id": "su2aTdIfQKN0"
      },
      "source": [
        "@cuda.jit\n",
        "def sm_fma_matmul(A,B,C): \n",
        "  sA = cuda.shared.array(shape=(T,T), dtype=float64)\n",
        "  sB = cuda.shared.array(shape=(T,T), dtype=float64)\n",
        "\n",
        "  r = cuda.threadIdx.x + cuda.blockIdx.x * cuda.blockDim.x\n",
        "  c = cuda.threadIdx.y + cuda.blockIdx.y * cuda.blockDim.y\n",
        "\n",
        "  tr = cuda.threadIdx.x\n",
        "  tc = cuda.threadIdx.y\n",
        "\n",
        "  temp = 0\n",
        "  for i in range(math.ceil(A.shape[0]/T)):\n",
        "    sA[tr, tc] = A[r, tc + i * T]\n",
        "    sB[tr, tc] = B[tr + i * T, c]\n",
        "      \n",
        "    cuda.syncthreads()\n",
        "\n",
        "    for k in range(T):\n",
        "      temp = cuda.fma(sA[tr, k], sB[k, tc], temp)  # Use cuda.fma() to apply fused multiply-add\n",
        "\n",
        "    cuda.syncthreads()\n",
        "      \n",
        "  C[r,c] = temp\n",
        "\n",
        "#------------------------------------\n",
        "\n",
        "perf_3 = []\n",
        "\n",
        "# Tile size\n",
        "T = 8\n",
        "\n",
        "for N in [128, 256, 512, 1024, 1536, 2048, 2560, 3072, 3584, 4096]:\n",
        "  np.random.seed(1)\n",
        "  A = np.random.uniform(0,1,(N,N))\n",
        "  B = np.random.uniform(0,1,(N,N))\n",
        "  C = np.zeros((N,N))\n",
        "\n",
        "  bpg = math.ceil(A.shape[0] / T)\n",
        "\n",
        "  THREADS = (T,T)\n",
        "  BLOCKS = (bpg,bpg)\n",
        "\n",
        "  start = time.time()\n",
        "  sm_fma_matmul[BLOCKS, THREADS](A,B,C)\n",
        "  stop = time.time()\n",
        "  elapsed = stop - start\n",
        "\n",
        "  m = A.shape[0]  # row number A\n",
        "  n = A.shape[1]  # col number A = row number B\n",
        "  p = B.shape[1]  # col number B\n",
        "\n",
        "  flops = m * p * (n + n - 1)\n",
        "  flops2gflops = 1/10**9\n",
        "  perf = flops / elapsed * flops2gflops\n",
        "  perf_3.append(perf)"
      ],
      "execution_count": null,
      "outputs": []
    },
    {
      "cell_type": "markdown",
      "metadata": {
        "id": "gf_XCtOXPKW7"
      },
      "source": [
        "#### Shared Memory - Tile 8x8 - Loop Unrolling"
      ]
    },
    {
      "cell_type": "code",
      "metadata": {
        "id": "gqN-IO1tO_zH"
      },
      "source": [
        "@cuda.jit(fastmath=True)\n",
        "def unroll_matmul(A,B,C): \n",
        "  sA = cuda.shared.array(shape=(T,T), dtype=float64)\n",
        "  sB = cuda.shared.array(shape=(T,T), dtype=float64)\n",
        "\n",
        "  r = cuda.threadIdx.x + cuda.blockIdx.x * cuda.blockDim.x\n",
        "  c = cuda.threadIdx.y + cuda.blockIdx.y * cuda.blockDim.y\n",
        "\n",
        "  tr = cuda.threadIdx.x\n",
        "  tc = cuda.threadIdx.y\n",
        "\n",
        "  temp = 0\n",
        "  for i in range(math.ceil(A.shape[0]/T)):\n",
        "    sA[tr, tc] = A[r, tc + i * T]\n",
        "    sB[tr, tc] = B[tr + i * T, c]\n",
        "    \n",
        "    cuda.syncthreads()\n",
        "    \n",
        "    # Unroll loop\n",
        "    temp += sA[tr, 0] * sB[0, tc]\n",
        "    temp += sA[tr, 1] * sB[1, tc]\n",
        "    temp += sA[tr, 2] * sB[2, tc]\n",
        "    temp += sA[tr, 3] * sB[3, tc]\n",
        "    temp += sA[tr, 4] * sB[4, tc]\n",
        "    temp += sA[tr, 5] * sB[5, tc]\n",
        "    temp += sA[tr, 6] * sB[6, tc]\n",
        "    temp += sA[tr, 7] * sB[7, tc]\n",
        "\n",
        "    cuda.syncthreads()\n",
        "\n",
        "  C[r,c] = temp\n",
        "\n",
        "#-----------------------------------------------\n",
        "\n",
        "perf_4 = []\n",
        "\n",
        "# Tile size\n",
        "T = 8\n",
        "\n",
        "for N in [128, 256, 512, 1024, 1536, 2048, 2560, 3072, 3584, 4096]:\n",
        "  np.random.seed(1)\n",
        "  A = np.random.uniform(0,1,(N,N))\n",
        "  B = np.random.uniform(0,1,(N,N))\n",
        "  C = np.zeros((N,N))\n",
        "\n",
        "  # Blocks per grid\n",
        "  bpg = math.ceil(A.shape[0] / T)\n",
        "\n",
        "  THREADS = (T,T)\n",
        "  BLOCKS = (bpg,bpg)\n",
        "\n",
        "  start = time.time()\n",
        "  unroll_matmul[BLOCKS, THREADS](A,B,C)\n",
        "  stop = time.time()\n",
        "  elapsed = stop - start\n",
        "\n",
        "  m = A.shape[0]  # row number A\n",
        "  n = A.shape[1]  # col number A = row number B\n",
        "  p = B.shape[1]  # col number B\n",
        "\n",
        "  flops = m * p * (n + n - 1)\n",
        "  flops2gflops = 1/10**9\n",
        "  perf = flops / elapsed * flops2gflops\n",
        "  perf_4.append(perf)"
      ],
      "execution_count": null,
      "outputs": []
    },
    {
      "cell_type": "markdown",
      "metadata": {
        "id": "Cz-oPqWc3Iv8"
      },
      "source": [
        "#### Shared Memory - Tile 8x8 - Swap Shared Memory 2D-Array Indexes"
      ]
    },
    {
      "cell_type": "code",
      "metadata": {
        "id": "UIsFkue_3Kla"
      },
      "source": [
        "@cuda.jit(fastmath=True)\n",
        "def swap_matmul(A,B,C): \n",
        "  sA = cuda.shared.array(shape=(T,T), dtype=float64)\n",
        "  sB = cuda.shared.array(shape=(T,T), dtype=float64)\n",
        "\n",
        "  r = cuda.threadIdx.x + cuda.blockIdx.x * cuda.blockDim.x\n",
        "  c = cuda.threadIdx.y + cuda.blockIdx.y * cuda.blockDim.y\n",
        "\n",
        "  tr = cuda.threadIdx.x\n",
        "  tc = cuda.threadIdx.y\n",
        "\n",
        "  temp = 0\n",
        "  for i in range(math.ceil(A.shape[0]/T)):\n",
        "    # Swap row and column indexes of sA and sB\n",
        "    sA[tc, tr] = A[r, tc + i * T]\n",
        "    sB[tc, tr] = B[tr + i * T, c]\n",
        "      \n",
        "    cuda.syncthreads()\n",
        "\n",
        "    for k in range (T):\n",
        "     # Swap positions of k and tr/tc\n",
        "     temp += sA[k, tr] * sB[tc, k]\n",
        "\n",
        "    cuda.syncthreads()\n",
        "  \n",
        "  C[r,c] = temp\n",
        "\n",
        "#---------------------------------------------------#\n",
        "\n",
        "perf_5 = []\n",
        "\n",
        "T = 8\n",
        "\n",
        "for N in [128, 256, 512, 1024, 1536, 2048, 2560, 3072, 3584, 4096]:\n",
        "  np.random.seed(1)\n",
        "  A = np.random.uniform(0,1,(N,N))\n",
        "  B = np.random.uniform(0,1,(N,N))\n",
        "  C = np.zeros((N,N))\n",
        "\n",
        "  # Blocks per grid\n",
        "  bpg = math.ceil(A.shape[0] / T)\n",
        "\n",
        "  THREADS = (T,T)\n",
        "  BLOCKS = (bpg,bpg)\n",
        "\n",
        "  start = time.time()\n",
        "  swap_matmul[BLOCKS, THREADS](A,B,C)\n",
        "  stop = time.time()\n",
        "  elapsed = stop - start\n",
        "\n",
        "  m = A.shape[0]  # row number A\n",
        "  n = A.shape[1]  # col number A = row number B\n",
        "  p = B.shape[1]  # col number B\n",
        "\n",
        "  flops = m * p * (n + n - 1)\n",
        "  flops2gflops = 1/10**9\n",
        "  perf = flops / elapsed * flops2gflops\n",
        "  perf_5.append(perf)"
      ],
      "execution_count": null,
      "outputs": []
    },
    {
      "cell_type": "markdown",
      "metadata": {
        "id": "htPxoVSqv2Bc"
      },
      "source": [
        "#### Shared Memory - Tile 32x32 - Swap Shared Memory 2D-Array Indexes + Loop Unrolling"
      ]
    },
    {
      "cell_type": "code",
      "metadata": {
        "id": "wAla_GUxv1Sm"
      },
      "source": [
        "@cuda.jit\n",
        "def swap_unroll_matmul(A,B,C): \n",
        "  sA = cuda.shared.array(shape=(T,T), dtype=float64)\n",
        "  sB = cuda.shared.array(shape=(T,T), dtype=float64)\n",
        "\n",
        "  r = cuda.threadIdx.x + cuda.blockIdx.x * cuda.blockDim.x\n",
        "  c = cuda.threadIdx.y + cuda.blockIdx.y * cuda.blockDim.y\n",
        "\n",
        "  tr = cuda.threadIdx.x\n",
        "  tc = cuda.threadIdx.y\n",
        "\n",
        "  temp = 0\n",
        "  for i in range(math.ceil(A.shape[0]/T)):\n",
        "    sA[tc, tr] = A[r, tc + i * T]\n",
        "    sB[tc, tr] = B[tr + i * T, c]\n",
        "\n",
        "    cuda.syncthreads()\n",
        "\n",
        "    for k in range(0, T, 8):\n",
        "      temp += sA[k,tr] * sB[tc,k]\n",
        "      temp += sA[k+1,tr] * sB[tc,k+1]\n",
        "      temp += sA[k+2,tr] * sB[tc,k+2]\n",
        "      temp += sA[k+3,tr] * sB[tc,k+3]\n",
        "      temp += sA[k+4,tr] * sB[tc,k+4]\n",
        "      temp += sA[k+5,tr] * sB[tc,k+5]\n",
        "      temp += sA[k+6,tr] * sB[tc,k+6]\n",
        "      temp += sA[k+7,tr] * sB[tc,k+7]\n",
        "\n",
        "    cuda.syncthreads()\n",
        "      \n",
        "  C[r,c] = temp\n",
        "\n",
        "#---------------------------------------------------#\n",
        "\n",
        "perf_6 = []\n",
        "T = 32\n",
        "for N in [128, 256, 512, 1024, 1536, 2048, 2560, 3072, 3584, 4096]:\n",
        "  np.random.seed(1)\n",
        "  A = np.random.uniform(0,1,(N,N))\n",
        "  B = np.random.uniform(0,1,(N,N))\n",
        "  C = np.zeros((N,N))\n",
        "\n",
        "  # Blocks per grid\n",
        "  bpg = math.ceil(A.shape[0] / T)\n",
        "\n",
        "  THREADS = (T,T)\n",
        "  BLOCKS = (bpg,bpg)\n",
        "\n",
        "  start = time.time()\n",
        "  swap_unroll_matmul[BLOCKS, THREADS](A,B,C)\n",
        "  stop = time.time()\n",
        "  elapsed = stop - start\n",
        "\n",
        "  m = A.shape[0]  # row number A\n",
        "  n = A.shape[1]  # col number A = row number B\n",
        "  p = B.shape[1]  # col number B\n",
        "\n",
        "  flops = m * p * (n + n - 1)\n",
        "  flops2gflops = 1/10**9\n",
        "  perf = flops / elapsed * flops2gflops\n",
        "  perf_6.append(perf)"
      ],
      "execution_count": null,
      "outputs": []
    },
    {
      "cell_type": "code",
      "metadata": {
        "id": "8H-TwREMz6u_"
      },
      "source": [
        "m_size = []\n",
        "for N in [128, 256, 512, 1024, 1536, 2048, 2560, 3072, 3584, 4096]:\n",
        "  m_size.append(N)"
      ],
      "execution_count": null,
      "outputs": []
    },
    {
      "cell_type": "code",
      "metadata": {
        "id": "p79AlzEOy2PN",
        "colab": {
          "base_uri": "https://localhost:8080/",
          "height": 359
        },
        "outputId": "d7a700e9-b7a9-4358-d2f5-de9c32c92ff7"
      },
      "source": [
        "data = {'Numpy': numpy_perf, 'Naive': naive_perf, 'Tile 8':perf_2, 'FMA':perf_3,\n",
        "        'Unrolling': perf_4, 'Invert Indexing': perf_5, 'Invert + unroll': perf_6,\n",
        "        'Matrix Size': m_size }\n",
        "df = pd.DataFrame(data)\n",
        "df"
      ],
      "execution_count": null,
      "outputs": [
        {
          "output_type": "execute_result",
          "data": {
            "text/html": [
              "<div>\n",
              "<style scoped>\n",
              "    .dataframe tbody tr th:only-of-type {\n",
              "        vertical-align: middle;\n",
              "    }\n",
              "\n",
              "    .dataframe tbody tr th {\n",
              "        vertical-align: top;\n",
              "    }\n",
              "\n",
              "    .dataframe thead th {\n",
              "        text-align: right;\n",
              "    }\n",
              "</style>\n",
              "<table border=\"1\" class=\"dataframe\">\n",
              "  <thead>\n",
              "    <tr style=\"text-align: right;\">\n",
              "      <th></th>\n",
              "      <th>Numpy</th>\n",
              "      <th>Naive</th>\n",
              "      <th>Tile 8</th>\n",
              "      <th>FMA</th>\n",
              "      <th>Unrolling</th>\n",
              "      <th>Invert Indexing</th>\n",
              "      <th>Invert + unroll</th>\n",
              "      <th>Matrix Size</th>\n",
              "    </tr>\n",
              "  </thead>\n",
              "  <tbody>\n",
              "    <tr>\n",
              "      <th>0</th>\n",
              "      <td>0.875954</td>\n",
              "      <td>0.014387</td>\n",
              "      <td>0.020321</td>\n",
              "      <td>0.022158</td>\n",
              "      <td>0.012056</td>\n",
              "      <td>0.019718</td>\n",
              "      <td>0.012433</td>\n",
              "      <td>128</td>\n",
              "    </tr>\n",
              "    <tr>\n",
              "      <th>1</th>\n",
              "      <td>23.488731</td>\n",
              "      <td>10.800662</td>\n",
              "      <td>6.988190</td>\n",
              "      <td>3.322514</td>\n",
              "      <td>13.249940</td>\n",
              "      <td>7.335245</td>\n",
              "      <td>3.257180</td>\n",
              "      <td>256</td>\n",
              "    </tr>\n",
              "    <tr>\n",
              "      <th>2</th>\n",
              "      <td>31.164812</td>\n",
              "      <td>23.937526</td>\n",
              "      <td>38.869320</td>\n",
              "      <td>34.195738</td>\n",
              "      <td>20.208778</td>\n",
              "      <td>43.286527</td>\n",
              "      <td>33.357070</td>\n",
              "      <td>512</td>\n",
              "    </tr>\n",
              "    <tr>\n",
              "      <th>3</th>\n",
              "      <td>41.800780</td>\n",
              "      <td>33.200087</td>\n",
              "      <td>76.042310</td>\n",
              "      <td>76.299452</td>\n",
              "      <td>77.791421</td>\n",
              "      <td>94.271157</td>\n",
              "      <td>93.108989</td>\n",
              "      <td>1024</td>\n",
              "    </tr>\n",
              "    <tr>\n",
              "      <th>4</th>\n",
              "      <td>43.217287</td>\n",
              "      <td>42.739791</td>\n",
              "      <td>79.461050</td>\n",
              "      <td>81.152018</td>\n",
              "      <td>80.637796</td>\n",
              "      <td>117.135056</td>\n",
              "      <td>112.118983</td>\n",
              "      <td>1536</td>\n",
              "    </tr>\n",
              "    <tr>\n",
              "      <th>5</th>\n",
              "      <td>42.412472</td>\n",
              "      <td>67.391410</td>\n",
              "      <td>81.690510</td>\n",
              "      <td>79.765798</td>\n",
              "      <td>80.904734</td>\n",
              "      <td>106.972044</td>\n",
              "      <td>117.505634</td>\n",
              "      <td>2048</td>\n",
              "    </tr>\n",
              "    <tr>\n",
              "      <th>6</th>\n",
              "      <td>42.480953</td>\n",
              "      <td>68.306820</td>\n",
              "      <td>82.543303</td>\n",
              "      <td>81.394730</td>\n",
              "      <td>79.586564</td>\n",
              "      <td>103.908054</td>\n",
              "      <td>124.649200</td>\n",
              "      <td>2560</td>\n",
              "    </tr>\n",
              "    <tr>\n",
              "      <th>7</th>\n",
              "      <td>40.850994</td>\n",
              "      <td>68.375855</td>\n",
              "      <td>84.436900</td>\n",
              "      <td>83.343404</td>\n",
              "      <td>82.540884</td>\n",
              "      <td>105.739798</td>\n",
              "      <td>130.055662</td>\n",
              "      <td>3072</td>\n",
              "    </tr>\n",
              "    <tr>\n",
              "      <th>8</th>\n",
              "      <td>43.930808</td>\n",
              "      <td>68.147799</td>\n",
              "      <td>82.610529</td>\n",
              "      <td>82.379962</td>\n",
              "      <td>81.382796</td>\n",
              "      <td>110.235649</td>\n",
              "      <td>132.350995</td>\n",
              "      <td>3584</td>\n",
              "    </tr>\n",
              "    <tr>\n",
              "      <th>9</th>\n",
              "      <td>43.839349</td>\n",
              "      <td>68.561030</td>\n",
              "      <td>84.296081</td>\n",
              "      <td>82.775214</td>\n",
              "      <td>82.294282</td>\n",
              "      <td>105.956277</td>\n",
              "      <td>131.610251</td>\n",
              "      <td>4096</td>\n",
              "    </tr>\n",
              "  </tbody>\n",
              "</table>\n",
              "</div>"
            ],
            "text/plain": [
              "       Numpy      Naive  ...  Invert + unroll  Matrix Size\n",
              "0   0.875954   0.014387  ...         0.012433          128\n",
              "1  23.488731  10.800662  ...         3.257180          256\n",
              "2  31.164812  23.937526  ...        33.357070          512\n",
              "3  41.800780  33.200087  ...        93.108989         1024\n",
              "4  43.217287  42.739791  ...       112.118983         1536\n",
              "5  42.412472  67.391410  ...       117.505634         2048\n",
              "6  42.480953  68.306820  ...       124.649200         2560\n",
              "7  40.850994  68.375855  ...       130.055662         3072\n",
              "8  43.930808  68.147799  ...       132.350995         3584\n",
              "9  43.839349  68.561030  ...       131.610251         4096\n",
              "\n",
              "[10 rows x 8 columns]"
            ]
          },
          "metadata": {
            "tags": []
          },
          "execution_count": 11
        }
      ]
    },
    {
      "cell_type": "code",
      "metadata": {
        "id": "dJS0MmXT2O4-",
        "colab": {
          "base_uri": "https://localhost:8080/",
          "height": 502
        },
        "outputId": "451b0751-9f93-4f82-f58b-f2d244796aee"
      },
      "source": [
        "fig, ax = plt.subplots(figsize=(12,8))\n",
        "ax.plot(df['Matrix Size'], df['Numpy'], label='Numpy', marker='o')\n",
        "ax.plot(df['Matrix Size'], df['Naive'], label='8x8 Block Naive', marker='o')\n",
        "ax.plot(df['Matrix Size'], df['Tile 8'], label='8x8 Block sm', marker='o')\n",
        "ax.plot(df['Matrix Size'], df['FMA'], label='8x8 Block sm + fma', marker='o')\n",
        "ax.plot(df['Matrix Size'], df['Unrolling'], label='8x8 Block sm + Loop\\nUnrolling', marker='o')\n",
        "ax.plot(df['Matrix Size'], df['Invert Indexing'], label='8x8 Block sm + Invert\\nIndex', marker='o')\n",
        "ax.plot(df['Matrix Size'], df['Invert + unroll'], label='32x32 Block sm + Invert\\nIndex + Unroll', marker='o')\n",
        "ax.set_xlabel('Square Matrix Shape')\n",
        "ax.set_ylabel('Performance (GFLOPS)')\n",
        "plt.legend(bbox_to_anchor=(1,1), bbox_transform=ax.transAxes, fontsize='large')\n",
        "ax.set_ylim(0,270)\n",
        "ax.axhline(y=254.4, ls='--', color='k')\n",
        "plt.show();"
      ],
      "execution_count": null,
      "outputs": [
        {
          "output_type": "display_data",
          "data": {
            "image/png": "[encoded data removed]",
            "text/plain": [
              "<Figure size 864x576 with 1 Axes>"
            ]
          },
          "metadata": {
            "tags": []
          }
        }
      ]
    },
    {
      "cell_type": "markdown",
      "metadata": {
        "id": "ZRS9eWf3vSkl"
      },
      "source": [
        "## Test kernels output against Numpy matmul"
      ]
    },
    {
      "cell_type": "code",
      "metadata": {
        "id": "As2Guj2-H5DB",
        "colab": {
          "base_uri": "https://localhost:8080/"
        },
        "outputId": "b06bec29-05b5-40a8-a01d-0b7de3d136d0"
      },
      "source": [
        "N = 512\n",
        "T = 8\n",
        "\n",
        "np.random.seed(1)\n",
        "A = np.random.randint(0,5,size=(N,N))\n",
        "B = np.random.randint(0,5,size=(N,N))\n",
        "C = np.zeros((N,N))\n",
        "\n",
        "bpg = math.ceil(A.shape[0] / T)\n",
        "\n",
        "THREADS = (T,T)\n",
        "BLOCKS = (bpg,bpg)\n",
        "\n",
        "# Define Z = A * B with Numpy matmul\n",
        "Z = np.matmul(A, B)\n",
        "\n",
        "# Test output of Naive GPU kernel\n",
        "naive_matmul[BLOCKS, THREADS](A,B,C)\n",
        "print((C - Z == 0).all())\n",
        "\n",
        "# Test output of Shared Memory kernel\n",
        "sm_matmul[BLOCKS, THREADS](A,B,C)\n",
        "print((C - Z == 0).all())\n",
        "\n",
        "# Test output of Shared Memory + Fused Multiply-Add kernel\n",
        "sm_fma_matmul[BLOCKS, THREADS](A,B,C)\n",
        "print((C - Z == 0).all())\n",
        "\n",
        "# Test output of Shared Memory + Loop Unrolling kernel\n",
        "unroll_matmul[BLOCKS, THREADS](A,B,C)\n",
        "print((C - Z == 0).all())\n",
        "\n",
        "# Test output of Shared Memory + Swap Index kernel\n",
        "swap_matmul[BLOCKS, THREADS](A,B,C)\n",
        "print((C - Z == 0).all())\n",
        "\n",
        "# Test output of Shared Memory + Swap Index + Loop Unrolling kernel\n",
        "swap_unroll_matmul[BLOCKS, THREADS](A,B,C)\n",
        "print((C - Z == 0).all())"
      ],
      "execution_count": null,
      "outputs": [
        {
          "output_type": "stream",
          "text": [
            "True\n",
            "True\n",
            "True\n",
            "True\n",
            "True\n",
            "True\n"
          ],
          "name": "stdout"
        }
      ]
    }
  ]
}